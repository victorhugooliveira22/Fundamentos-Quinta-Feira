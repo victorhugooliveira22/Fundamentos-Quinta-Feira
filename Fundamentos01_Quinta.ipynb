{
  "nbformat": 4,
  "nbformat_minor": 0,
  "metadata": {
    "colab": {
      "provenance": [],
      "authorship_tag": "ABX9TyOyUXdoy5iSBeKcrPULd6Vv",
      "include_colab_link": true
    },
    "kernelspec": {
      "name": "python3",
      "display_name": "Python 3"
    },
    "language_info": {
      "name": "python"
    }
  },
  "cells": [
    {
      "cell_type": "markdown",
      "metadata": {
        "id": "view-in-github",
        "colab_type": "text"
      },
      "source": [
        "<a href=\"https://colab.research.google.com/github/victorhugooliveira22/Fundamentos-Quinta-Feira/blob/main/Fundamentos01_Quinta.ipynb\" target=\"_parent\"><img src=\"https://colab.research.google.com/assets/colab-badge.svg\" alt=\"Open In Colab\"/></a>"
      ]
    },
    {
      "cell_type": "code",
      "execution_count": 1,
      "metadata": {
        "colab": {
          "base_uri": "https://localhost:8080/"
        },
        "id": "f5QyT6RADmRw",
        "outputId": "76b6076b-c0dd-4729-d15d-031e46420b70"
      },
      "outputs": [
        {
          "output_type": "stream",
          "name": "stdout",
          "text": [
            "Olá Mundo!\n"
          ]
        }
      ],
      "source": [
        "print ('Olá Mundo!')"
      ]
    },
    {
      "cell_type": "markdown",
      "source": [],
      "metadata": {
        "id": "XzLtOvpBFxje"
      }
    },
    {
      "cell_type": "markdown",
      "source": [
        "### Importação de Bibliotecas"
      ],
      "metadata": {
        "id": "TbV2A6KjErW4"
      }
    },
    {
      "cell_type": "code",
      "source": [
        "Import numpy as np\n",
        "Import pandas as pd"
      ],
      "metadata": {
        "colab": {
          "base_uri": "https://localhost:8080/",
          "height": 140
        },
        "id": "8sS01lE6D8yw",
        "outputId": "7e20acf1-7cd4-4e05-fe42-8528226c30c3"
      },
      "execution_count": 3,
      "outputs": [
        {
          "output_type": "error",
          "ename": "SyntaxError",
          "evalue": "invalid syntax (<ipython-input-3-87e6518d066f>, line 1)",
          "traceback": [
            "\u001b[0;36m  File \u001b[0;32m\"<ipython-input-3-87e6518d066f>\"\u001b[0;36m, line \u001b[0;32m1\u001b[0m\n\u001b[0;31m    Import numpy as np\u001b[0m\n\u001b[0m           ^\u001b[0m\n\u001b[0;31mSyntaxError\u001b[0m\u001b[0;31m:\u001b[0m invalid syntax\n"
          ]
        }
      ]
    },
    {
      "cell_type": "markdown",
      "source": [
        "### Funções Nativas"
      ],
      "metadata": {
        "id": "0COACk8-EwsN"
      }
    },
    {
      "cell_type": "code",
      "source": [
        "print\n",
        "type"
      ],
      "metadata": {
        "id": "QeUI2aJ6F8aV"
      },
      "execution_count": null,
      "outputs": []
    }
  ]
}