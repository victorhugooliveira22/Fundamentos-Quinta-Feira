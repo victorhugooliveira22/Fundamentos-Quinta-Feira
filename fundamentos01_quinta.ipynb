{
  "nbformat": 4,
  "nbformat_minor": 0,
  "metadata": {
    "colab": {
      "provenance": [],
      "toc_visible": true,
      "include_colab_link": true
    },
    "kernelspec": {
      "name": "python3",
      "display_name": "Python 3"
    },
    "language_info": {
      "name": "python"
    }
  },
  "cells": [
    {
      "cell_type": "markdown",
      "metadata": {
        "id": "view-in-github",
        "colab_type": "text"
      },
      "source": [
        "<a href=\"https://colab.research.google.com/github/victorhugooliveira22/Fundamentos-Quinta-Feira/blob/main/fundamentos01_quinta.ipynb\" target=\"_parent\"><img src=\"https://colab.research.google.com/assets/colab-badge.svg\" alt=\"Open In Colab\"/></a>"
      ]
    },
    {
      "cell_type": "markdown",
      "source": [
        "  # Importação de bibliotecas\n"
      ],
      "metadata": {
        "id": "yZCZpzY_Qa_U"
      }
    },
    {
      "cell_type": "code",
      "source": [
        "import numpy as np\n",
        "\n",
        "import pandas as pd"
      ],
      "metadata": {
        "id": "V-naRRZNQxgm"
      },
      "execution_count": null,
      "outputs": []
    },
    {
      "cell_type": "markdown",
      "source": [
        "# Funções Nativas\n",
        "\n",
        "- `print()`, `type()`, `len()`, `input()`, `dir()`\n",
        "- metodos de string: `upper()`, `title()`, `strip()`, `split()`"
      ],
      "metadata": {
        "id": "HVBkwwkoTL8l"
      }
    },
    {
      "cell_type": "markdown",
      "source": [],
      "metadata": {
        "id": "LuBR2P6VZsHn"
      }
    },
    {
      "cell_type": "code",
      "execution_count": null,
      "metadata": {
        "id": "6y4zc_ozoqAu",
        "colab": {
          "base_uri": "https://localhost:8080/"
        },
        "outputId": "54e159cf-dab0-40cd-ab06-5400350a1c6b"
      },
      "outputs": [
        {
          "output_type": "stream",
          "name": "stdout",
          "text": [
            "2\n",
            "<class 'list'>\n",
            "2\n",
            "String antes do strip: minicurso de analise de dados\n",
            "String depois do strip: minicurso de analise de dados\n",
            "['01/02/2024', '08/02/2024']\n",
            "a data do encontro:01/02/2024\n",
            "01/02/2024\n",
            "###\n",
            "a data do encontro:08/02/2024\n",
            "08/02/2024\n",
            "###\n"
          ]
        }
      ],
      "source": [
        "tipo_encontro = \"minicurso de analise de dados\"\n",
        "\n",
        "dia_encontro = 2\n",
        "\n",
        "lista_encontro = [\"01/02/2024\", \"08/02/2024\"]\n",
        "\n",
        "print(dia_encontro)\n",
        "\n",
        "print(type(lista_encontro))\n",
        "\n",
        "print(len(lista_encontro))\n",
        "\n",
        "print(f'String antes do strip: {tipo_encontro}')\n",
        "tipo_encontro2 = tipo_encontro.strip()\n",
        "print(f\"String depois do strip: {tipo_encontro2.strip()}\")\n",
        "\n",
        "\"\"\"\n",
        "tipo_encontro2.split(\" \")\n",
        "print(dir(lista_encontro))\n",
        "tipo_encontro.count(\" \")\n",
        "\"\"\"\n",
        "print(lista_encontro)\n",
        "for encontro in lista_encontro:\n",
        "  if encontro == \"01/02/2024\"\n",
        "  print(\"a data do encontro:\" + encontro)\n",
        "  print(encontro)\n",
        "  print(\"###\")"
      ]
    },
    {
      "cell_type": "markdown",
      "source": [
        "### Nossa própria função"
      ],
      "metadata": {
        "id": "sj2mJJCnirGd"
      }
    },
    {
      "cell_type": "code",
      "source": [
        "def primeira_função(numero1, numero2):\n",
        "  \"\"\"reponsavel por somar\"\"\"\n",
        "  print(\"minha primeira função\")\n",
        "  soma = numero1 + numero2\n",
        "  subtrai = numero1 - numero2\n",
        "  print(f'a Soma é: {soma}')\n",
        "  return soma, subtrai\n",
        "\n",
        "somar = input(\"Indique dois numeros para serem somados: \")\n",
        "print (f'Tipo de dado: {type(somar)}: {somar}')\n",
        "print(len(somar))\n",
        "numero1 = int(somar[0])\n",
        "numero2 = int(somar[1])\n",
        "# chamada de função\n",
        "retorno_função = primeira_função(numero1, numero2)\n",
        "print(f'Retorno da função: {retorno_função}')"
      ],
      "metadata": {
        "id": "3CR3fnBCiz3c",
        "colab": {
          "base_uri": "https://localhost:8080/"
        },
        "outputId": "b7a5c533-61b4-4925-d392-6c54b9efac76"
      },
      "execution_count": null,
      "outputs": [
        {
          "output_type": "stream",
          "name": "stdout",
          "text": [
            "Indique dois numeros para serem somados: 54\n",
            "Tipo de dado: <class 'str'>: 54\n",
            "2\n",
            "minha primeira função\n",
            "a Soma é: 9\n",
            "Retorno da função: (9, 1)\n"
          ]
        }
      ]
    },
    {
      "cell_type": "code",
      "source": [
        "print(retorno_função)"
      ],
      "metadata": {
        "colab": {
          "base_uri": "https://localhost:8080/"
        },
        "id": "2e4x-4yawhOZ",
        "outputId": "b0a5e996-86a7-4c7a-c829-d909da9b71e7"
      },
      "execution_count": null,
      "outputs": [
        {
          "output_type": "stream",
          "name": "stdout",
          "text": [
            "(9, 1)\n"
          ]
        }
      ]
    }
  ]
}